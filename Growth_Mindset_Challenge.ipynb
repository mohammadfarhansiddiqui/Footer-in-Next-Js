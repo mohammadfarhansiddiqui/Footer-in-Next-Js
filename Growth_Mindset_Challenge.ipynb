{
  "nbformat": 4,
  "nbformat_minor": 0,
  "metadata": {
    "colab": {
      "provenance": [],
      "authorship_tag": "ABX9TyPnuRH53/wtbqppsmBM/PIo",
      "include_colab_link": true
    },
    "kernelspec": {
      "name": "python3",
      "display_name": "Python 3"
    },
    "language_info": {
      "name": "python"
    }
  },
  "cells": [
    {
      "cell_type": "markdown",
      "metadata": {
        "id": "view-in-github",
        "colab_type": "text"
      },
      "source": [
        "<a href=\"https://colab.research.google.com/github/mohammadfarhansiddiqui/Footer-in-Next-Js/blob/main/Growth_Mindset_Challenge.ipynb\" target=\"_parent\"><img src=\"https://colab.research.google.com/assets/colab-badge.svg\" alt=\"Open In Colab\"/></a>"
      ]
    },
    {
      "cell_type": "code",
      "execution_count": null,
      "metadata": {
        "colab": {
          "base_uri": "https://localhost:8080/",
          "height": 383
        },
        "id": "Be1QqLDNmE34",
        "outputId": "2ccd2f42-dff2-4b89-d7ff-899e03c2625d"
      },
      "outputs": [
        {
          "output_type": "error",
          "ename": "ModuleNotFoundError",
          "evalue": "No module named 'streamlit'",
          "traceback": [
            "\u001b[0;31m---------------------------------------------------------------------------\u001b[0m",
            "\u001b[0;31mModuleNotFoundError\u001b[0m                       Traceback (most recent call last)",
            "\u001b[0;32m<ipython-input-2-718eee554bab>\u001b[0m in \u001b[0;36m<cell line: 0>\u001b[0;34m()\u001b[0m\n\u001b[0;32m----> 1\u001b[0;31m \u001b[0;32mimport\u001b[0m \u001b[0mstreamlit\u001b[0m \u001b[0;32mas\u001b[0m \u001b[0mst\u001b[0m\u001b[0;34m\u001b[0m\u001b[0;34m\u001b[0m\u001b[0m\n\u001b[0m\u001b[1;32m      2\u001b[0m \u001b[0;32mimport\u001b[0m \u001b[0mpandas\u001b[0m \u001b[0;32mas\u001b[0m \u001b[0mpd\u001b[0m\u001b[0;34m\u001b[0m\u001b[0;34m\u001b[0m\u001b[0m\n\u001b[1;32m      3\u001b[0m \u001b[0;32mimport\u001b[0m \u001b[0mos\u001b[0m\u001b[0;34m\u001b[0m\u001b[0;34m\u001b[0m\u001b[0m\n\u001b[1;32m      4\u001b[0m \u001b[0;32mfrom\u001b[0m \u001b[0mio\u001b[0m \u001b[0;32mimport\u001b[0m \u001b[0mBytesIO\u001b[0m\u001b[0;34m\u001b[0m\u001b[0;34m\u001b[0m\u001b[0m\n\u001b[1;32m      5\u001b[0m \u001b[0;34m\u001b[0m\u001b[0m\n",
            "\u001b[0;31mModuleNotFoundError\u001b[0m: No module named 'streamlit'",
            "",
            "\u001b[0;31m---------------------------------------------------------------------------\u001b[0;32m\nNOTE: If your import is failing due to a missing package, you can\nmanually install dependencies using either !pip or !apt.\n\nTo view examples of installing some common dependencies, click the\n\"Open Examples\" button below.\n\u001b[0;31m---------------------------------------------------------------------------\u001b[0m\n"
          ],
          "errorDetails": {
            "actions": [
              {
                "action": "open_url",
                "actionText": "Open Examples",
                "url": "/notebooks/snippets/importing_libraries.ipynb"
              }
            ]
          }
        }
      ],
      "source": [
        "import streamlit as st\n",
        "import pandas as pd\n",
        "import os\n",
        "from io import BytesIO\n",
        "\n",
        "# setup our app\n",
        "st.set_page_config(page_icon=\"🎰\", layout=\"wide\")\n",
        "\n",
        "# app title\n",
        "st.title(\"🏹Growth Mindset Challenge\")\n",
        "st.write(\"transform your files between csv and xlsx format with built-in data cleaning and visualization\")\n",
        "\n",
        "uploaded_files = st.file_uploader(\"Upload your files (CSV and Excel):\", type=[\"csv\", \"xlsx\", \"xls\"], accept_multiple_files=True)\n",
        "\n",
        "if uploaded_files:\n",
        "    for file in uploaded_files:\n",
        "        file_ext = os.path.splitext(file.name)[-1].lower()\n",
        "\n",
        "        try:\n",
        "            if file_ext == \".csv\":\n",
        "                df = pd.read_csv(file)\n",
        "            elif file_ext in [\".xlsx\", \".xls\"]:\n",
        "                df = pd.read_excel(file)\n",
        "            else:\n",
        "                st.error(f\"Unsupported file type: {file_ext}\")\n",
        "                continue\n",
        "        except Exception as e:\n",
        "            st.error(f\"Error reading file {file.name}: {e}\")\n",
        "            continue\n",
        "\n",
        "        # display info about the file\n",
        "        st.write(f\"**File name:** {file.name}\")\n",
        "        st.write(f\"**File size:** {file.size} bytes\")\n",
        "\n",
        "        # show 5 rows of our datafram\n",
        "        st.write(\"Preview the head of the dataframe\")\n",
        "        st.dataframe(df.head())\n",
        "\n",
        "        # option for data cleaning\n",
        "        st.subheader(\"🚿Data cleaning options\")\n",
        "        if st.checkbox(f\"Clean data for {file.name}\"):\n",
        "            col1, col2 = st.columns(2)\n",
        "\n",
        "            with col1:\n",
        "                if st.button(f\"Remove duplicates from {file.name}\"):\n",
        "                    df.drop_duplicates(inplace=True)\n",
        "                    st.write(f\"Duplicate removed!\")\n",
        "\n",
        "            with col2:\n",
        "                if st.button(f\"fill missing values for {file.name}\"):\n",
        "                    numeric_cols = df.select_dtypes(include=['number']).columns\n",
        "                    df[numeric_cols] = df[numeric_cols].fillna(df[numeric_cols].mean())\n",
        "                    st.write(f\"Missing values have been filled!\")\n",
        "\n",
        "        # choose specific columns to keep or convert\n",
        "        st.subheader(\"🔍Choose columns to convert\")\n",
        "        columns = st.multiselect(f\"Select columns for {file.name}\", df.columns, default=df.columns)\n",
        "        df = df[columns]\n",
        "\n",
        "        # create some visualizations\n",
        "        st.subheader(\"📉Data Visualizations\")\n",
        "        if st.checkbox(f\"Visualize data for {file.name}\"):\n",
        "            numeric_cols = df.select_dtypes(include='number').columns\n",
        "            if len(numeric_cols) >= 2:\n",
        "                st.bar_chart(df[numeric_cols].iloc[:, :2])\n",
        "            else:\n",
        "                st.warning(\"Not enough numeric columns for bar chart.\")\n",
        "\n",
        "        # convert the file -> csv to xlsx\n",
        "        st.subheader(\"⏳Conversion options\")\n",
        "        conversion_type = st.radio(f\"convert {file.name} to:\", [\"Convert CSV to XLSX\", \"Convert XLSX to CSV\"], key=file.name)\n",
        "        if st.button(f\"Convert {file.name}\"):\n",
        "            buffer = BytesIO()\n",
        "            if conversion_type == \"Convert CSV to XLSX\":\n",
        "                df.to_excel(buffer, index=False)\n",
        "                file_name = file.name.replace(file_ext, \".xlsx\")\n",
        "                mime_type = \"application/vnd.openxmlformats-officedocument.spreadsheetml.sheet\"\n",
        "\n",
        "            elif conversion_type == \"Convert XLSX to CSV\":\n",
        "                df.to_csv(buffer, index=False)\n",
        "                file_name = file.name.replace(file_ext, \".csv\")\n",
        "                mime_type = \"text/csv\"\n",
        "            buffer.seek(0)\n",
        "\n",
        "            # download button\n",
        "            st.download_button(\n",
        "                label=f\"⏬Download {file_name}\",\n",
        "                data=buffer,\n",
        "                file_name=file_name,\n",
        "                mime=mime_type\n",
        "            )\n",
        "\n",
        "st.success(\"All files processed\")\n",
        "\n"
      ]
    }
  ]
}